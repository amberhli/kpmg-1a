{
 "cells": [
  {
   "cell_type": "markdown",
   "id": "5ff902ef",
   "metadata": {},
   "source": [
    "# Data collection and preprocessing"
   ]
  }
 ],
 "metadata": {
  "language_info": {
   "name": "python"
  }
 },
 "nbformat": 4,
 "nbformat_minor": 5
}
