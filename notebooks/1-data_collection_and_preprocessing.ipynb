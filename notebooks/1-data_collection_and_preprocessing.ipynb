{
 "cells": [
  {
   "cell_type": "markdown",
   "id": "5ff902ef",
   "metadata": {},
   "source": [
    "# Data collection and preprocessing"
   ]
  }
 ],
 "metadata": {
  "kernelspec": {
   "display_name": "base",
   "language": "python",
   "name": "python3"
  },
  "language_info": {
   "name": "python",
   "version": "3.13.5"
  }
 },
 "nbformat": 4,
 "nbformat_minor": 5
}
